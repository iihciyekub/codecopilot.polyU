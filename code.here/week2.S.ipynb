{
 "cells": [
  {
   "cell_type": "code",
   "execution_count": null,
   "metadata": {},
   "outputs": [],
   "source": []
  },
  {
   "cell_type": "code",
   "execution_count": null,
   "metadata": {},
   "outputs": [],
   "source": [
    "import pandas as pd\n",
    "\n",
    "# 使用相对路径读取目录下breachlist.pkl文件\n",
    "df = pd.read_pickle('breachlist.pkl')\n",
    "\n",
    "url = df['href'][0]\n",
    "\n",
    "from pyquery import PyQuery as pq\n",
    "\n",
    "\n",
    "import pandas as pd\n",
    "\n",
    "# 使用相对路径读取目录下breachlist.pkl文件\n",
    "df = pd.read_pickle('breachlist.pkl')\n",
    "\n",
    "url = df['href'][3]\n",
    "\n",
    "\n",
    "\n",
    "def get_details(url):\n",
    "    try:\n",
    "        # 使用 PyQuery 解析 url 中的 table 标签\n",
    "        doc = pq(url)\n",
    "        table = doc('table')\n",
    "        # 将 table 转换为 Pandas DataFrame\n",
    "        tdf = pd.read_html(str(table))[0]\n",
    "        # 获取 table 标签下的所有子级 a 标签的 href 属性值\n",
    "        hrefs = table.find('a')\n",
    "        clist = []\n",
    "        dlist = []\n",
    "        for href in hrefs:\n",
    "            # 判断属性值是否包含 \"case_details\" 或 \"defendant_details\" 字符\n",
    "            if 'case_details' in href.attrib['href']:\n",
    "                clist.append('https://resources.hse.gov.uk/convictions-history/case/' + href.attrib['href'])\n",
    "            elif 'defendant_details' in href.attrib['href']:\n",
    "                dlist.append('https://resources.hse.gov.uk/convictions-history/defendant/' + href.attrib['href'])\n",
    "            else:\n",
    "                pass\n",
    "        # 返回 url 为 key，tdf 为 value 的字典，以及 clist 和 dlist\n",
    "        return {url: tdf}, clist, dlist\n",
    "    except:\n",
    "        # 解析失败或异常时，抛出异常返回 None\n",
    "        raise Exception('Failed to parse URL')\n",
    "\n",
    "\n",
    "# 调用 get_details 方法，将返回值分别赋值给 resdic, clist, dlist\n",
    "resdic, clist, dlist = get_details(url)\n",
    "\n",
    "\n",
    "# 如果 resdic 不等于 None\n",
    "if resdic is not None:\n",
    "    # 如果 clist 元素大于0\n",
    "    if len(clist) > 0:\n",
    "        # 将 clist 中的每个元素都传入 get_details 方法中，只保留第一个返回值，过滤掉为 None 的情况，结果保存为变量 clist_res\n",
    "        clist_res = [get_details(url)[0] for url in clist if get_details(url)[0] is not None][0]\n",
    "    # 如果 clist 元素等于0\n",
    "    else:\n",
    "        clist_res = None\n",
    "    # 如果 dlist 元素大于0\n",
    "    if len(dlist) > 0:\n",
    "        # 将 dlist 中的每个元素都传入 get_details 方法中，只保留第一个返回值，过滤掉为 None 的情况，结果保存为变量 dlist_res\n",
    "        dlist_res = [get_details(url)[0] for url in dlist if get_details(url)[0] is not None][0]\n",
    "    # 如果 dlist 元素等于0\n",
    "    else:\n",
    "        dlist_res = None\n",
    "\n",
    "# Combine all dictionaries in resdic, clist_res, and dlist_res into one dictionary\n",
    "combined_dict = {}\n",
    "for d in [resdic, clist_res, dlist_res]:\n",
    "    if d is not None:\n",
    "        combined_dict.update(d)\n",
    "        \n",
    "# The combined dictionary is now stored in the variable combined_dict.\n",
    "import pickle\n",
    "\n",
    "# 将 combined_dict 通过pickle 本地序列化\n",
    "with open('combined_dict.pkl', 'wb') as f:\n",
    "    pickle.dump(combined_dict, f)\n"
   ]
  },
  {
   "cell_type": "code",
   "execution_count": null,
   "metadata": {},
   "outputs": [],
   "source": [
    "list(combined_dict.values())[0]"
   ]
  },
  {
   "cell_type": "code",
   "execution_count": null,
   "metadata": {},
   "outputs": [],
   "source": []
  },
  {
   "cell_type": "code",
   "execution_count": null,
   "metadata": {},
   "outputs": [],
   "source": [
    "pip install webdriver_manager"
   ]
  },
  {
   "cell_type": "code",
   "execution_count": null,
   "metadata": {},
   "outputs": [],
   "source": [
    "from selenium import webdriver\n",
    "from webdriver_manager.chrome import ChromeDriverManager\n",
    "\n",
    "driver = webdriver.Chrome(ChromeDriverManager().install())"
   ]
  },
  {
   "cell_type": "code",
   "execution_count": null,
   "metadata": {},
   "outputs": [],
   "source": [
    "driver = webdriver.Chrome()"
   ]
  },
  {
   "cell_type": "code",
   "execution_count": null,
   "metadata": {},
   "outputs": [],
   "source": [
    "from pyquery import PyQuery as pq"
   ]
  },
  {
   "cell_type": "code",
   "execution_count": 10,
   "metadata": {},
   "outputs": [
    {
     "name": "stdout",
     "output_type": "stream",
     "text": [
      "\n"
     ]
    },
    {
     "name": "stderr",
     "output_type": "stream",
     "text": [
      "C:\\Users\\LYJ\\AppData\\Local\\Temp\\ipykernel_16544\\673590261.py:7: DeprecationWarning: executable_path has been deprecated, please pass in a Service object\n",
      "  driver = webdriver.Chrome(ChromeDriverManager().install())\n"
     ]
    }
   ],
   "source": [
    "from selenium import webdriver\n",
    "import time\n",
    "import pickle\n",
    "\n",
    "from webdriver_manager.chrome import ChromeDriverManager\n",
    "\n",
    "driver = webdriver.Chrome(ChromeDriverManager().install())\n",
    "\n",
    "# navigate to the login page and wait for 10 seconds for the user to login\n",
    "driver.get(\"https://example.com/login\")\n",
    "time.sleep(10)\n",
    "\n",
    "# define a function to save cookies to a file\n",
    "def save_cookies():\n",
    "    # get the cookies from the webdriver instance\n",
    "    cookies = driver.get_cookies()\n",
    "    # save the cookies to a file\n",
    "    with open('cookies.pkl', 'wb') as f:\n",
    "        pickle.dump(cookies, f)\n",
    "\n",
    "# define a function to load cookies from a file\n",
    "def load_cookies():\n",
    "    # load the cookies from the file\n",
    "    with open('cookies.pkl', 'rb') as f:\n",
    "        cookies = pickle.load(f)\n",
    "    # add the cookies to the webdriver instance\n",
    "    for cookie in cookies:\n",
    "        driver.add_cookie(cookie)\n",
    "\n",
    "# save the login cookies the first time\n",
    "save_cookies()\n"
   ]
  },
  {
   "cell_type": "code",
   "execution_count": null,
   "metadata": {},
   "outputs": [],
   "source": []
  }
 ],
 "metadata": {
  "kernelspec": {
   "display_name": "paddle_env",
   "language": "python",
   "name": "python3"
  },
  "language_info": {
   "codemirror_mode": {
    "name": "ipython",
    "version": 3
   },
   "file_extension": ".py",
   "mimetype": "text/x-python",
   "name": "python",
   "nbconvert_exporter": "python",
   "pygments_lexer": "ipython3",
   "version": "3.8.13"
  },
  "orig_nbformat": 4
 },
 "nbformat": 4,
 "nbformat_minor": 2
}
